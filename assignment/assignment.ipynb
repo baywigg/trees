{
 "cells": [
  {
   "cell_type": "markdown",
   "metadata": {},
   "source": [
    "# Assignment: Trees\n",
    "Do three questions."
   ]
  },
  {
   "cell_type": "markdown",
   "metadata": {},
   "source": [
    "**Q1.** Please answer the following questions in your own words.\n",
    "\n",
    "1. How are trees constructed?\n",
    "\n",
    "2. How do trees handle non-linear relationships between variables? Compare this to linear models. \n",
    "\n",
    "3. Why is the Gini a good loss function for categorical target variables? \n",
    "\n",
    "4. Why do trees tend to overfit, and how can this tendency be constrained? \n",
    "\n",
    "5. True or false, and explain: Trees only really perform well in situations with lots of categorical variables as features/covariates. \n",
    "\n",
    "6. Why don't most versions of classification/regression tree concept allow for more than two branches after a split?\n",
    "\n",
    "7. What are some heuristic ways you can examine a tree and decide whether it is probably over- or under-fitting?"
   ]
  },
  {
   "cell_type": "markdown",
   "metadata": {},
   "source": [
    "1. Trees split the dataset at decision nodes using a recursive and greedy strategy. This minimizes differences in outcomes within groups, forming a structure of decision nodes.\n",
    "\n",
    "2. This will happen naturally through recursive partitioning, as the tree assumes no linear relationship.\n",
    "\n",
    "3. Because it measures impurity, in that it is low when a node contains mainly one class, creating purer splits in classification.\n",
    "\n",
    "4. By making too many fine splits, capturing noise. This can be constrained with pruning, depth limits, or minimum node size.\n",
    "\n",
    "5. False, trees can handle both categorical and numerical variables by selecting good split points.\n",
    "\n",
    "6. They simplify optimization and interpretation, and they recursively handle complex splits over multiple levels.\n",
    "\n",
    "7. Too deep or too many leaves = overfitting. Too shallow or high training error = underfitting."
   ]
  },
  {
   "cell_type": "markdown",
   "metadata": {},
   "source": [
    "**Q2.** This is a case study on regression and classification trees.\n",
    "\n",
    "1. Load `./data/cars_hw.csv`. How many observations and features/covariates/variables? What are the available variables? Take a look at the first few rows of data.\n",
    "\n",
    "2. For the categorical variables `Make`, `Color`, `Body_type`, `No_of_Owners`, `Fuel_Type`, `Transmission`, and `Transmission_Type`, create dummy/one-hot-encoded representations. For numeric variables, we'll use `Mileage_Run`, `Make_Year`, and `Seating_Capacity`. Our target variable will be `Price`. Make a train-test split of your data.\n",
    "\n",
    "3. From `sklearn.tree`, import the `DecisionTreeRegressor` and `plot_tree`. Use a train-test split to iterate over possible values for `min_samples_leaf`, computing the $R^2$ for each value between 1 and 25. What choice achieves the highest $R^2$ on the test data?\n",
    "\n",
    "4. For the optimal `min_samples_leaf` from 3, regress price on the rest of the features/covariates using the training data. What is your $R^2$ and RMSE on the test set? Plot the dendrogram. Plot the residuals. Is the density of residuals symmetric and centered around 0?\n",
    "\n",
    "4. Run a linear regression of price on the same variables. Which model -- regression tree or linear regression -- performs better on the test set? Why?\n",
    "\n",
    "5. Predict prices using both your tree and your linear model, and make a scatter plot of their values. Describe what you see. "
   ]
  },
  {
   "cell_type": "code",
   "execution_count": 69,
   "metadata": {},
   "outputs": [],
   "source": [
    "import pandas as pd\n",
    "import numpy as np\n",
    "from sklearn.model_selection import train_test_split\n",
    "from sklearn.tree import DecisionTreeRegressor, plot_tree, DecisionTreeClassifier\n",
    "from sklearn.linear_model import LinearRegression\n",
    "from sklearn.metrics import r2_score, mean_squared_error, accuracy_score\n",
    "import matplotlib.pyplot as plt\n",
    "import seaborn as sns"
   ]
  },
  {
   "cell_type": "code",
   "execution_count": 5,
   "metadata": {},
   "outputs": [
    {
     "name": "stdout",
     "output_type": "stream",
     "text": [
      "observations: 976\n",
      "features: {df.shape[1]}\n",
      "variables: ['Unnamed: 0', 'Make', 'Make_Year', 'Color', 'Body_Type', 'Mileage_Run', 'No_of_Owners', 'Seating_Capacity', 'Fuel_Type', 'Transmission', 'Transmission_Type', 'Price']\n"
     ]
    },
    {
     "data": {
      "application/vnd.microsoft.datawrangler.viewer.v0+json": {
       "columns": [
        {
         "name": "index",
         "rawType": "int64",
         "type": "integer"
        },
        {
         "name": "Unnamed: 0",
         "rawType": "int64",
         "type": "integer"
        },
        {
         "name": "Make",
         "rawType": "object",
         "type": "string"
        },
        {
         "name": "Make_Year",
         "rawType": "int64",
         "type": "integer"
        },
        {
         "name": "Color",
         "rawType": "object",
         "type": "string"
        },
        {
         "name": "Body_Type",
         "rawType": "object",
         "type": "string"
        },
        {
         "name": "Mileage_Run",
         "rawType": "int64",
         "type": "integer"
        },
        {
         "name": "No_of_Owners",
         "rawType": "object",
         "type": "string"
        },
        {
         "name": "Seating_Capacity",
         "rawType": "int64",
         "type": "integer"
        },
        {
         "name": "Fuel_Type",
         "rawType": "object",
         "type": "string"
        },
        {
         "name": "Transmission",
         "rawType": "object",
         "type": "string"
        },
        {
         "name": "Transmission_Type",
         "rawType": "object",
         "type": "string"
        },
        {
         "name": "Price",
         "rawType": "int64",
         "type": "integer"
        }
       ],
       "conversionMethod": "pd.DataFrame",
       "ref": "dab355b7-6b47-4520-8456-b60066a70c08",
       "rows": [
        [
         "0",
         "1",
         "Volkswagen",
         "2017",
         "silver",
         "sedan",
         "44611",
         "1st",
         "5",
         "diesel",
         "7-Speed",
         "Automatic",
         "657000"
        ],
        [
         "1",
         "2",
         "Hyundai",
         "2016",
         "red",
         "crossover",
         "20305",
         "1st",
         "5",
         "petrol",
         "5-Speed",
         "Manual",
         "682000"
        ],
        [
         "2",
         "3",
         "Honda",
         "2019",
         "white",
         "suv",
         "29540",
         "2nd",
         "5",
         "petrol",
         "5-Speed",
         "Manual",
         "793000"
        ],
        [
         "3",
         "4",
         "Renault",
         "2017",
         "bronze",
         "hatchback",
         "35680",
         "1st",
         "5",
         "petrol",
         "5-Speed",
         "Manual",
         "414000"
        ],
        [
         "4",
         "5",
         "Hyundai",
         "2017",
         "orange",
         "hatchback",
         "25126",
         "1st",
         "5",
         "petrol",
         "5-Speed",
         "Manual",
         "515000"
        ]
       ],
       "shape": {
        "columns": 12,
        "rows": 5
       }
      },
      "text/html": [
       "<div>\n",
       "<style scoped>\n",
       "    .dataframe tbody tr th:only-of-type {\n",
       "        vertical-align: middle;\n",
       "    }\n",
       "\n",
       "    .dataframe tbody tr th {\n",
       "        vertical-align: top;\n",
       "    }\n",
       "\n",
       "    .dataframe thead th {\n",
       "        text-align: right;\n",
       "    }\n",
       "</style>\n",
       "<table border=\"1\" class=\"dataframe\">\n",
       "  <thead>\n",
       "    <tr style=\"text-align: right;\">\n",
       "      <th></th>\n",
       "      <th>Unnamed: 0</th>\n",
       "      <th>Make</th>\n",
       "      <th>Make_Year</th>\n",
       "      <th>Color</th>\n",
       "      <th>Body_Type</th>\n",
       "      <th>Mileage_Run</th>\n",
       "      <th>No_of_Owners</th>\n",
       "      <th>Seating_Capacity</th>\n",
       "      <th>Fuel_Type</th>\n",
       "      <th>Transmission</th>\n",
       "      <th>Transmission_Type</th>\n",
       "      <th>Price</th>\n",
       "    </tr>\n",
       "  </thead>\n",
       "  <tbody>\n",
       "    <tr>\n",
       "      <th>0</th>\n",
       "      <td>1</td>\n",
       "      <td>Volkswagen</td>\n",
       "      <td>2017</td>\n",
       "      <td>silver</td>\n",
       "      <td>sedan</td>\n",
       "      <td>44611</td>\n",
       "      <td>1st</td>\n",
       "      <td>5</td>\n",
       "      <td>diesel</td>\n",
       "      <td>7-Speed</td>\n",
       "      <td>Automatic</td>\n",
       "      <td>657000</td>\n",
       "    </tr>\n",
       "    <tr>\n",
       "      <th>1</th>\n",
       "      <td>2</td>\n",
       "      <td>Hyundai</td>\n",
       "      <td>2016</td>\n",
       "      <td>red</td>\n",
       "      <td>crossover</td>\n",
       "      <td>20305</td>\n",
       "      <td>1st</td>\n",
       "      <td>5</td>\n",
       "      <td>petrol</td>\n",
       "      <td>5-Speed</td>\n",
       "      <td>Manual</td>\n",
       "      <td>682000</td>\n",
       "    </tr>\n",
       "    <tr>\n",
       "      <th>2</th>\n",
       "      <td>3</td>\n",
       "      <td>Honda</td>\n",
       "      <td>2019</td>\n",
       "      <td>white</td>\n",
       "      <td>suv</td>\n",
       "      <td>29540</td>\n",
       "      <td>2nd</td>\n",
       "      <td>5</td>\n",
       "      <td>petrol</td>\n",
       "      <td>5-Speed</td>\n",
       "      <td>Manual</td>\n",
       "      <td>793000</td>\n",
       "    </tr>\n",
       "    <tr>\n",
       "      <th>3</th>\n",
       "      <td>4</td>\n",
       "      <td>Renault</td>\n",
       "      <td>2017</td>\n",
       "      <td>bronze</td>\n",
       "      <td>hatchback</td>\n",
       "      <td>35680</td>\n",
       "      <td>1st</td>\n",
       "      <td>5</td>\n",
       "      <td>petrol</td>\n",
       "      <td>5-Speed</td>\n",
       "      <td>Manual</td>\n",
       "      <td>414000</td>\n",
       "    </tr>\n",
       "    <tr>\n",
       "      <th>4</th>\n",
       "      <td>5</td>\n",
       "      <td>Hyundai</td>\n",
       "      <td>2017</td>\n",
       "      <td>orange</td>\n",
       "      <td>hatchback</td>\n",
       "      <td>25126</td>\n",
       "      <td>1st</td>\n",
       "      <td>5</td>\n",
       "      <td>petrol</td>\n",
       "      <td>5-Speed</td>\n",
       "      <td>Manual</td>\n",
       "      <td>515000</td>\n",
       "    </tr>\n",
       "  </tbody>\n",
       "</table>\n",
       "</div>"
      ],
      "text/plain": [
       "   Unnamed: 0        Make  Make_Year   Color  Body_Type  Mileage_Run  \\\n",
       "0           1  Volkswagen       2017  silver      sedan        44611   \n",
       "1           2     Hyundai       2016     red  crossover        20305   \n",
       "2           3       Honda       2019   white        suv        29540   \n",
       "3           4     Renault       2017  bronze  hatchback        35680   \n",
       "4           5     Hyundai       2017  orange  hatchback        25126   \n",
       "\n",
       "  No_of_Owners  Seating_Capacity Fuel_Type Transmission Transmission_Type  \\\n",
       "0          1st                 5    diesel      7-Speed         Automatic   \n",
       "1          1st                 5    petrol      5-Speed            Manual   \n",
       "2          2nd                 5    petrol      5-Speed            Manual   \n",
       "3          1st                 5    petrol      5-Speed            Manual   \n",
       "4          1st                 5    petrol      5-Speed            Manual   \n",
       "\n",
       "    Price  \n",
       "0  657000  \n",
       "1  682000  \n",
       "2  793000  \n",
       "3  414000  \n",
       "4  515000  "
      ]
     },
     "execution_count": 5,
     "metadata": {},
     "output_type": "execute_result"
    }
   ],
   "source": [
    "# Load data\n",
    "df = pd.read_csv(\"./data/cars_hw.csv\")\n",
    "print(f\"observations: {df.shape[0]}\")\n",
    "print(\"features: {df.shape[1]}\")\n",
    "print(\"variables:\", df.columns.tolist())\n",
    "df.head()"
   ]
  },
  {
   "cell_type": "code",
   "execution_count": 17,
   "metadata": {},
   "outputs": [],
   "source": [
    "# Feature preparing\n",
    "categorical = ['Make', 'Color', 'Body_Type', 'No_of_Owners', 'Fuel_Type', 'Transmission', 'Transmission_Type']\n",
    "numerical = ['Mileage_Run', 'Make_Year', 'Seating_Capacity']\n",
    "target = 'Price'\n",
    "\n",
    "dummies = pd.get_dummies(df[categorical], drop_first=True)\n",
    "X = pd.concat([df[numerical], dummies], axis=1)\n",
    "y = df[target]"
   ]
  },
  {
   "cell_type": "code",
   "execution_count": 21,
   "metadata": {},
   "outputs": [],
   "source": [
    "# Train test split\n",
    "X_train, X_test, y_train, y_test = train_test_split(X, y, test_size=0.2, random_state=42)"
   ]
  },
  {
   "cell_type": "code",
   "execution_count": 24,
   "metadata": {},
   "outputs": [
    {
     "data": {
      "text/plain": [
       "{1: 0.8182867955766739,\n",
       " 2: 0.7791006594900161,\n",
       " 3: 0.8019082918926088,\n",
       " 4: 0.813787467085308,\n",
       " 5: 0.8253410511223336,\n",
       " 6: 0.8035337682329031,\n",
       " 7: 0.8016519504527037,\n",
       " 8: 0.8040692309574341,\n",
       " 9: 0.7970596759785047,\n",
       " 10: 0.7940871433957849,\n",
       " 11: 0.7970094628850196,\n",
       " 12: 0.7822561983677742,\n",
       " 13: 0.7830934804803342,\n",
       " 14: 0.7770575742281992,\n",
       " 15: 0.7806307526177868,\n",
       " 16: 0.7709886341099872,\n",
       " 17: 0.772462470976059,\n",
       " 18: 0.7706093685726004,\n",
       " 19: 0.7498528142434848,\n",
       " 20: 0.7495510835456863,\n",
       " 21: 0.7505023025109951,\n",
       " 22: 0.7502189629127393,\n",
       " 23: 0.7333981211603038,\n",
       " 24: 0.7327985839401091,\n",
       " 25: 0.726866463039452}"
      ]
     },
     "execution_count": 24,
     "metadata": {},
     "output_type": "execute_result"
    }
   ],
   "source": [
    "# Tune min samples\n",
    "r2 = {}\n",
    "for i in range(1, 26):\n",
    "    tree = DecisionTreeRegressor(min_samples_leaf=i, random_state=42)\n",
    "    tree.fit(X_train, y_train)\n",
    "    r2_score = tree.score(X_test, y_test)\n",
    "    r2[i] = r2_score\n",
    "\n",
    "r2"
   ]
  },
  {
   "cell_type": "code",
   "execution_count": null,
   "metadata": {},
   "outputs": [],
   "source": [
    "# The highest R^2 score is gotten when min_samples_leaf=5"
   ]
  },
  {
   "cell_type": "code",
   "execution_count": 41,
   "metadata": {},
   "outputs": [],
   "source": [
    "# Tree model\n",
    "best_tree = DecisionTreeRegressor(min_samples_leaf=5, random_state=42)\n",
    "best_tree.fit(X_train, y_train)\n",
    "pred_tree = best_tree.predict(X_test)"
   ]
  },
  {
   "cell_type": "code",
   "execution_count": 42,
   "metadata": {},
   "outputs": [
    {
     "name": "stdout",
     "output_type": "stream",
     "text": [
      "R^2: 0.8253410511223336\n",
      "RMSE: 141536.54096868183\n"
     ]
    }
   ],
   "source": [
    "r2_tree = r2_score(y_test, pred_tree)\n",
    "rmse = np.sqrt(mean_squared_error(y_test, pred_tree))\n",
    "print(f\"R^2: {r2_tree}\")\n",
    "print(f\"RMSE: {rmse}\")"
   ]
  },
  {
   "cell_type": "code",
   "execution_count": 43,
   "metadata": {},
   "outputs": [
    {
     "data": {
      "image/png": "[encoded data removed]",
      "text/plain": [
       "<Figure size 2000x800 with 1 Axes>"
      ]
     },
     "metadata": {},
     "output_type": "display_data"
    }
   ],
   "source": [
    "# Plot dendrogram\n",
    "plt.figure(figsize=(20, 8))\n",
    "plot_tree(best_tree, feature_names=X.columns, filled=True, max_depth=3)\n",
    "plt.title(\"Decision Tree (truncated at depth 3)\")\n",
    "plt.show()"
   ]
  },
  {
   "cell_type": "code",
   "execution_count": 45,
   "metadata": {},
   "outputs": [
    {
     "data": {
      "image/png": "[encoded data removed]",
      "text/plain": [
       "<Figure size 640x480 with 1 Axes>"
      ]
     },
     "metadata": {},
     "output_type": "display_data"
    }
   ],
   "source": [
    "# Plot residuals\n",
    "residuals = y_test - pred_tree\n",
    "sns.histplot(residuals, kde=True)\n",
    "plt.title(\"Residual Density - Decision Tree\")\n",
    "plt.xlabel(\"Residuals\")\n",
    "plt.show()"
   ]
  },
  {
   "cell_type": "code",
   "execution_count": null,
   "metadata": {},
   "outputs": [],
   "source": [
    "# The distribution of the residuals are very symmetric and centered around 0."
   ]
  },
  {
   "cell_type": "code",
   "execution_count": 46,
   "metadata": {},
   "outputs": [],
   "source": [
    "# Linear regression\n",
    "lr = LinearRegression()\n",
    "lr.fit(X_train, y_train)\n",
    "pred_lr = lr.predict(X_test)"
   ]
  },
  {
   "cell_type": "code",
   "execution_count": 47,
   "metadata": {},
   "outputs": [
    {
     "name": "stdout",
     "output_type": "stream",
     "text": [
      "R^2: 0.8202733305970829\n",
      "RMSE: 143575.19660662432\n"
     ]
    }
   ],
   "source": [
    "r2_lr = r2_score(y_test, pred_lr)\n",
    "rmse = np.sqrt(mean_squared_error(y_test, pred_lr))\n",
    "print(f\"R^2: {r2_lr}\")\n",
    "print(f\"RMSE: {rmse}\")"
   ]
  },
  {
   "cell_type": "code",
   "execution_count": null,
   "metadata": {},
   "outputs": [],
   "source": [
    "# The decision tree regressor performs slightly better than the linear regressor, likely because it is capturing some non-linear relationships that impact the price that the linear regressor is not."
   ]
  },
  {
   "cell_type": "code",
   "execution_count": 48,
   "metadata": {},
   "outputs": [
    {
     "data": {
      "image/png": "[encoded data removed]",
      "text/plain": [
       "<Figure size 800x600 with 1 Axes>"
      ]
     },
     "metadata": {},
     "output_type": "display_data"
    }
   ],
   "source": [
    "# Scatter plot comparison\n",
    "plt.figure(figsize=(8,6))\n",
    "plt.scatter(pred_lr, pred_tree, alpha=0.6)\n",
    "plt.xlabel(\"Predicted Price (Linear Regression)\")\n",
    "plt.ylabel(\"Predicted Price (Decision Tree)\")\n",
    "plt.title(\"Model Prediction Comparison\")\n",
    "plt.grid(True)\n",
    "plt.show()"
   ]
  },
  {
   "cell_type": "code",
   "execution_count": 49,
   "metadata": {},
   "outputs": [],
   "source": [
    "# The scatterplot shows that the two models predict similar values on the lower prices, but greatly differ when the price is higher. This is likely because there are some non-linear relationships that make some cars more expensive than others, causing the two models to disagree."
   ]
  },
  {
   "cell_type": "markdown",
   "metadata": {},
   "source": [
    "**Q4.** This is a case study about trees using bond rating data. This is a dataset about bond ratings for different companies, alongside a bunch of business statistics and other data. Companies often have multiple reviews at different dates. We want to predict the bond rating (AAA, AA, A, BBB, BB, B, ..., C, D). Do business fundamentals predict the company's rating?\n",
    "\n",
    "1. Load the `./data/corporate_ratings.csv` dataset. How many observations and variables does it contain? Print out the first few rows of data.\n",
    "\n",
    "2.  Plot a histogram of the `ratings` variable. It turns out that the gradations of AAA/AA/A and BBB/BB/B and so on make it hard to get good results with trees. Collapse all AAA/AA/A ratings into just A, and similarly for B and C.\n",
    "\n",
    "3. Use all of the variables **except** Rating, Date, Name, Symbol, and Rating Agency Name. To include Sector, make a dummy/one-hot-encoded representation and include it in your features/covariates. Collect the relevant variables into a data matrix $X$. \n",
    "\n",
    "4. Do a train/test split of the data and use a decision tree classifier to predict the bond rating. Including a min_samples_leaf constraint can raise the accuracy and speed up computation time. Print a confusion matrix and the accuracy of your model. How well do you predict the different bond ratings?\n",
    "\n",
    "5. If you include the rating agency as a feature/covariate/predictor variable, do the results change? How do you interpret this?"
   ]
  },
  {
   "cell_type": "code",
   "execution_count": 52,
   "metadata": {},
   "outputs": [
    {
     "name": "stdout",
     "output_type": "stream",
     "text": [
      "observations: 2029\n",
      "variables: 31\n"
     ]
    },
    {
     "data": {
      "application/vnd.microsoft.datawrangler.viewer.v0+json": {
       "columns": [
        {
         "name": "index",
         "rawType": "int64",
         "type": "integer"
        },
        {
         "name": "Rating",
         "rawType": "object",
         "type": "string"
        },
        {
         "name": "Name",
         "rawType": "object",
         "type": "string"
        },
        {
         "name": "Symbol",
         "rawType": "object",
         "type": "string"
        },
        {
         "name": "Rating Agency Name",
         "rawType": "object",
         "type": "string"
        },
        {
         "name": "Date",
         "rawType": "object",
         "type": "string"
        },
        {
         "name": "Sector",
         "rawType": "object",
         "type": "string"
        },
        {
         "name": "currentRatio",
         "rawType": "float64",
         "type": "float"
        },
        {
         "name": "quickRatio",
         "rawType": "float64",
         "type": "float"
        },
        {
         "name": "cashRatio",
         "rawType": "float64",
         "type": "float"
        },
        {
         "name": "daysOfSalesOutstanding",
         "rawType": "float64",
         "type": "float"
        },
        {
         "name": "netProfitMargin",
         "rawType": "float64",
         "type": "float"
        },
        {
         "name": "pretaxProfitMargin",
         "rawType": "float64",
         "type": "float"
        },
        {
         "name": "grossProfitMargin",
         "rawType": "float64",
         "type": "float"
        },
        {
         "name": "operatingProfitMargin",
         "rawType": "float64",
         "type": "float"
        },
        {
         "name": "returnOnAssets",
         "rawType": "float64",
         "type": "float"
        },
        {
         "name": "returnOnCapitalEmployed",
         "rawType": "float64",
         "type": "float"
        },
        {
         "name": "returnOnEquity",
         "rawType": "float64",
         "type": "float"
        },
        {
         "name": "assetTurnover",
         "rawType": "float64",
         "type": "float"
        },
        {
         "name": "fixedAssetTurnover",
         "rawType": "float64",
         "type": "float"
        },
        {
         "name": "debtEquityRatio",
         "rawType": "float64",
         "type": "float"
        },
        {
         "name": "debtRatio",
         "rawType": "float64",
         "type": "float"
        },
        {
         "name": "effectiveTaxRate",
         "rawType": "float64",
         "type": "float"
        },
        {
         "name": "freeCashFlowOperatingCashFlowRatio",
         "rawType": "float64",
         "type": "float"
        },
        {
         "name": "freeCashFlowPerShare",
         "rawType": "float64",
         "type": "float"
        },
        {
         "name": "cashPerShare",
         "rawType": "float64",
         "type": "float"
        },
        {
         "name": "companyEquityMultiplier",
         "rawType": "float64",
         "type": "float"
        },
        {
         "name": "ebitPerRevenue",
         "rawType": "float64",
         "type": "float"
        },
        {
         "name": "enterpriseValueMultiple",
         "rawType": "float64",
         "type": "float"
        },
        {
         "name": "operatingCashFlowPerShare",
         "rawType": "float64",
         "type": "float"
        },
        {
         "name": "operatingCashFlowSalesRatio",
         "rawType": "float64",
         "type": "float"
        },
        {
         "name": "payablesTurnover",
         "rawType": "float64",
         "type": "float"
        }
       ],
       "conversionMethod": "pd.DataFrame",
       "ref": "f58711d4-8f48-40fb-9dab-1c6b1fc51f00",
       "rows": [
        [
         "0",
         "A",
         "Whirlpool Corporation",
         "WHR",
         "Egan-Jones Ratings Company",
         "11/27/2015",
         "Consumer Durables",
         "0.945893595",
         "0.426394628",
         "0.099690083",
         "44.20324542",
         "0.037480255",
         "0.049351395",
         "0.176631085",
         "0.061509741",
         "0.041188848",
         "0.091514291",
         "0.165085389",
         "1.098947922",
         "5.535506094",
         "3.008011807",
         "0.750499737",
         "0.20271581",
         "0.43755102",
         "6.810673443",
         "9.809402795",
         "4.008011807",
         "0.049351395",
         "7.05708807",
         "15.56543837",
         "0.058637691",
         "3.906654554"
        ],
        [
         "1",
         "BBB",
         "Whirlpool Corporation",
         "WHR",
         "Egan-Jones Ratings Company",
         "2/13/2014",
         "Consumer Durables",
         "1.033559023",
         "0.498233736",
         "0.2031204",
         "38.99115563",
         "0.044062017",
         "0.048857158",
         "0.175715275",
         "0.0665459",
         "0.053203809",
         "0.1048",
         "0.167952884",
         "1.207475553",
         "6.1719829",
         "2.156783103",
         "0.683221822",
         "0.074154853",
         "0.54199683",
         "8.625472888",
         "17.40226986",
         "3.156783103",
         "0.048857158",
         "6.460618222",
         "15.91424968",
         "0.067238532",
         "4.002846054"
        ],
        [
         "2",
         "BBB",
         "Whirlpool Corporation",
         "WHR",
         "Fitch Ratings",
         "3/6/2015",
         "Consumer Durables",
         "0.963703439",
         "0.451505415",
         "0.12209925",
         "50.84138486",
         "0.03270934",
         "0.044333736",
         "0.170843398",
         "0.059782609",
         "0.03249675",
         "0.075954824",
         "0.133060389",
         "0.99350065",
         "4.991710625",
         "3.09457523",
         "0.755774423",
         "0.214528944",
         "0.513184584",
         "9.69348659",
         "13.10344828",
         "4.09457523",
         "0.044333736",
         "10.49197025",
         "18.88888889",
         "0.074426329",
         "3.483509514"
        ],
        [
         "3",
         "BBB",
         "Whirlpool Corporation",
         "WHR",
         "Fitch Ratings",
         "6/15/2012",
         "Consumer Durables",
         "1.019850723",
         "0.510401779",
         "0.176115611",
         "41.16173792",
         "0.020893603",
         "-0.012857602",
         "0.138058502",
         "0.042430087",
         "0.025690007",
         "-0.027014858",
         "0.09327912",
         "1.22956327",
         "6.017408124",
         "2.630949534",
         "0.724589948",
         "1.816666667",
         "-0.147169811",
         "-1.015625",
         "14.44010417",
         "3.630949534",
         "-0.012857602",
         "4.080740741",
         "6.901041667",
         "0.028393871",
         "4.581150342"
        ],
        [
         "4",
         "BBB",
         "Whirlpool Corporation",
         "WHR",
         "Standard & Poor's Ratings Services",
         "10/24/2016",
         "Consumer Durables",
         "0.957843905",
         "0.495432002",
         "0.141607935",
         "47.76112559",
         "0.04286128",
         "0.053769669",
         "0.177719857",
         "0.065353799",
         "0.046363494",
         "0.096945436",
         "0.186046512",
         "1.081710437",
         "5.437795276",
         "3.012780222",
         "0.75079622",
         "0.166965889",
         "0.451371571",
         "7.135348226",
         "14.25755585",
         "4.012780222",
         "0.053769669",
         "8.293504729",
         "15.80814717",
         "0.05806545",
         "3.857789855"
        ]
       ],
       "shape": {
        "columns": 31,
        "rows": 5
       }
      },
      "text/html": [
       "<div>\n",
       "<style scoped>\n",
       "    .dataframe tbody tr th:only-of-type {\n",
       "        vertical-align: middle;\n",
       "    }\n",
       "\n",
       "    .dataframe tbody tr th {\n",
       "        vertical-align: top;\n",
       "    }\n",
       "\n",
       "    .dataframe thead th {\n",
       "        text-align: right;\n",
       "    }\n",
       "</style>\n",
       "<table border=\"1\" class=\"dataframe\">\n",
       "  <thead>\n",
       "    <tr style=\"text-align: right;\">\n",
       "      <th></th>\n",
       "      <th>Rating</th>\n",
       "      <th>Name</th>\n",
       "      <th>Symbol</th>\n",
       "      <th>Rating Agency Name</th>\n",
       "      <th>Date</th>\n",
       "      <th>Sector</th>\n",
       "      <th>currentRatio</th>\n",
       "      <th>quickRatio</th>\n",
       "      <th>cashRatio</th>\n",
       "      <th>daysOfSalesOutstanding</th>\n",
       "      <th>...</th>\n",
       "      <th>effectiveTaxRate</th>\n",
       "      <th>freeCashFlowOperatingCashFlowRatio</th>\n",
       "      <th>freeCashFlowPerShare</th>\n",
       "      <th>cashPerShare</th>\n",
       "      <th>companyEquityMultiplier</th>\n",
       "      <th>ebitPerRevenue</th>\n",
       "      <th>enterpriseValueMultiple</th>\n",
       "      <th>operatingCashFlowPerShare</th>\n",
       "      <th>operatingCashFlowSalesRatio</th>\n",
       "      <th>payablesTurnover</th>\n",
       "    </tr>\n",
       "  </thead>\n",
       "  <tbody>\n",
       "    <tr>\n",
       "      <th>0</th>\n",
       "      <td>A</td>\n",
       "      <td>Whirlpool Corporation</td>\n",
       "      <td>WHR</td>\n",
       "      <td>Egan-Jones Ratings Company</td>\n",
       "      <td>11/27/2015</td>\n",
       "      <td>Consumer Durables</td>\n",
       "      <td>0.945894</td>\n",
       "      <td>0.426395</td>\n",
       "      <td>0.099690</td>\n",
       "      <td>44.203245</td>\n",
       "      <td>...</td>\n",
       "      <td>0.202716</td>\n",
       "      <td>0.437551</td>\n",
       "      <td>6.810673</td>\n",
       "      <td>9.809403</td>\n",
       "      <td>4.008012</td>\n",
       "      <td>0.049351</td>\n",
       "      <td>7.057088</td>\n",
       "      <td>15.565438</td>\n",
       "      <td>0.058638</td>\n",
       "      <td>3.906655</td>\n",
       "    </tr>\n",
       "    <tr>\n",
       "      <th>1</th>\n",
       "      <td>BBB</td>\n",
       "      <td>Whirlpool Corporation</td>\n",
       "      <td>WHR</td>\n",
       "      <td>Egan-Jones Ratings Company</td>\n",
       "      <td>2/13/2014</td>\n",
       "      <td>Consumer Durables</td>\n",
       "      <td>1.033559</td>\n",
       "      <td>0.498234</td>\n",
       "      <td>0.203120</td>\n",
       "      <td>38.991156</td>\n",
       "      <td>...</td>\n",
       "      <td>0.074155</td>\n",
       "      <td>0.541997</td>\n",
       "      <td>8.625473</td>\n",
       "      <td>17.402270</td>\n",
       "      <td>3.156783</td>\n",
       "      <td>0.048857</td>\n",
       "      <td>6.460618</td>\n",
       "      <td>15.914250</td>\n",
       "      <td>0.067239</td>\n",
       "      <td>4.002846</td>\n",
       "    </tr>\n",
       "    <tr>\n",
       "      <th>2</th>\n",
       "      <td>BBB</td>\n",
       "      <td>Whirlpool Corporation</td>\n",
       "      <td>WHR</td>\n",
       "      <td>Fitch Ratings</td>\n",
       "      <td>3/6/2015</td>\n",
       "      <td>Consumer Durables</td>\n",
       "      <td>0.963703</td>\n",
       "      <td>0.451505</td>\n",
       "      <td>0.122099</td>\n",
       "      <td>50.841385</td>\n",
       "      <td>...</td>\n",
       "      <td>0.214529</td>\n",
       "      <td>0.513185</td>\n",
       "      <td>9.693487</td>\n",
       "      <td>13.103448</td>\n",
       "      <td>4.094575</td>\n",
       "      <td>0.044334</td>\n",
       "      <td>10.491970</td>\n",
       "      <td>18.888889</td>\n",
       "      <td>0.074426</td>\n",
       "      <td>3.483510</td>\n",
       "    </tr>\n",
       "    <tr>\n",
       "      <th>3</th>\n",
       "      <td>BBB</td>\n",
       "      <td>Whirlpool Corporation</td>\n",
       "      <td>WHR</td>\n",
       "      <td>Fitch Ratings</td>\n",
       "      <td>6/15/2012</td>\n",
       "      <td>Consumer Durables</td>\n",
       "      <td>1.019851</td>\n",
       "      <td>0.510402</td>\n",
       "      <td>0.176116</td>\n",
       "      <td>41.161738</td>\n",
       "      <td>...</td>\n",
       "      <td>1.816667</td>\n",
       "      <td>-0.147170</td>\n",
       "      <td>-1.015625</td>\n",
       "      <td>14.440104</td>\n",
       "      <td>3.630950</td>\n",
       "      <td>-0.012858</td>\n",
       "      <td>4.080741</td>\n",
       "      <td>6.901042</td>\n",
       "      <td>0.028394</td>\n",
       "      <td>4.581150</td>\n",
       "    </tr>\n",
       "    <tr>\n",
       "      <th>4</th>\n",
       "      <td>BBB</td>\n",
       "      <td>Whirlpool Corporation</td>\n",
       "      <td>WHR</td>\n",
       "      <td>Standard &amp; Poor's Ratings Services</td>\n",
       "      <td>10/24/2016</td>\n",
       "      <td>Consumer Durables</td>\n",
       "      <td>0.957844</td>\n",
       "      <td>0.495432</td>\n",
       "      <td>0.141608</td>\n",
       "      <td>47.761126</td>\n",
       "      <td>...</td>\n",
       "      <td>0.166966</td>\n",
       "      <td>0.451372</td>\n",
       "      <td>7.135348</td>\n",
       "      <td>14.257556</td>\n",
       "      <td>4.012780</td>\n",
       "      <td>0.053770</td>\n",
       "      <td>8.293505</td>\n",
       "      <td>15.808147</td>\n",
       "      <td>0.058065</td>\n",
       "      <td>3.857790</td>\n",
       "    </tr>\n",
       "  </tbody>\n",
       "</table>\n",
       "<p>5 rows × 31 columns</p>\n",
       "</div>"
      ],
      "text/plain": [
       "  Rating                   Name Symbol                  Rating Agency Name  \\\n",
       "0      A  Whirlpool Corporation    WHR          Egan-Jones Ratings Company   \n",
       "1    BBB  Whirlpool Corporation    WHR          Egan-Jones Ratings Company   \n",
       "2    BBB  Whirlpool Corporation    WHR                       Fitch Ratings   \n",
       "3    BBB  Whirlpool Corporation    WHR                       Fitch Ratings   \n",
       "4    BBB  Whirlpool Corporation    WHR  Standard & Poor's Ratings Services   \n",
       "\n",
       "         Date             Sector  currentRatio  quickRatio  cashRatio  \\\n",
       "0  11/27/2015  Consumer Durables      0.945894    0.426395   0.099690   \n",
       "1   2/13/2014  Consumer Durables      1.033559    0.498234   0.203120   \n",
       "2    3/6/2015  Consumer Durables      0.963703    0.451505   0.122099   \n",
       "3   6/15/2012  Consumer Durables      1.019851    0.510402   0.176116   \n",
       "4  10/24/2016  Consumer Durables      0.957844    0.495432   0.141608   \n",
       "\n",
       "   daysOfSalesOutstanding  ...  effectiveTaxRate  \\\n",
       "0               44.203245  ...          0.202716   \n",
       "1               38.991156  ...          0.074155   \n",
       "2               50.841385  ...          0.214529   \n",
       "3               41.161738  ...          1.816667   \n",
       "4               47.761126  ...          0.166966   \n",
       "\n",
       "   freeCashFlowOperatingCashFlowRatio  freeCashFlowPerShare  cashPerShare  \\\n",
       "0                            0.437551              6.810673      9.809403   \n",
       "1                            0.541997              8.625473     17.402270   \n",
       "2                            0.513185              9.693487     13.103448   \n",
       "3                           -0.147170             -1.015625     14.440104   \n",
       "4                            0.451372              7.135348     14.257556   \n",
       "\n",
       "   companyEquityMultiplier  ebitPerRevenue  enterpriseValueMultiple  \\\n",
       "0                 4.008012        0.049351                 7.057088   \n",
       "1                 3.156783        0.048857                 6.460618   \n",
       "2                 4.094575        0.044334                10.491970   \n",
       "3                 3.630950       -0.012858                 4.080741   \n",
       "4                 4.012780        0.053770                 8.293505   \n",
       "\n",
       "   operatingCashFlowPerShare  operatingCashFlowSalesRatio  payablesTurnover  \n",
       "0                  15.565438                     0.058638          3.906655  \n",
       "1                  15.914250                     0.067239          4.002846  \n",
       "2                  18.888889                     0.074426          3.483510  \n",
       "3                   6.901042                     0.028394          4.581150  \n",
       "4                  15.808147                     0.058065          3.857790  \n",
       "\n",
       "[5 rows x 31 columns]"
      ]
     },
     "execution_count": 52,
     "metadata": {},
     "output_type": "execute_result"
    }
   ],
   "source": [
    "# Load the dataset\n",
    "df = pd.read_csv(\"./data/corporate_ratings.csv\")\n",
    "print(f\"observations: {df.shape[0]}\")\n",
    "print(f\"variables: {df.shape[1]}\")\n",
    "df.head()"
   ]
  },
  {
   "cell_type": "code",
   "execution_count": 53,
   "metadata": {},
   "outputs": [
    {
     "data": {
      "image/png": "[encoded data removed]",
      "text/plain": [
       "<Figure size 800x500 with 1 Axes>"
      ]
     },
     "metadata": {},
     "output_type": "display_data"
    }
   ],
   "source": [
    "# Histogram of ratings variable\n",
    "plt.figure(figsize=(8,5))\n",
    "df['Rating'].value_counts().sort_index().plot(kind='bar')\n",
    "plt.title(\"Original Ratings Distribution\")\n",
    "plt.xticks(rotation=45)\n",
    "plt.tight_layout()\n",
    "plt.show()"
   ]
  },
  {
   "cell_type": "code",
   "execution_count": 55,
   "metadata": {},
   "outputs": [
    {
     "name": "stdout",
     "output_type": "stream",
     "text": [
      "Rating_Collapsed\n",
      "B    1463\n",
      "A     494\n",
      "C      72\n",
      "Name: count, dtype: int64\n"
     ]
    }
   ],
   "source": [
    "# Function to simplify ratings into A, B, and C for use in apply function\n",
    "def collapse_ratings(r):\n",
    "    if r.startswith('AAA') or r.startswith('AA') or r.startswith('A'):\n",
    "        return 'A'\n",
    "    elif r.startswith('BBB') or r.startswith('BB') or r.startswith('B'):\n",
    "        return 'B'\n",
    "    elif r.startswith('CCC') or r.startswith('CC') or r.startswith('C') or r == 'D':\n",
    "        return 'C'\n",
    "    else:\n",
    "        return 'Other'\n",
    "# Apply function\n",
    "df['Rating_Collapsed'] = df['Rating'].apply(collapse_ratings)\n",
    "print(df['Rating_Collapsed'].value_counts())"
   ]
  },
  {
   "cell_type": "code",
   "execution_count": null,
   "metadata": {},
   "outputs": [],
   "source": [
    "# Prepare features\n",
    "cols_to_drop = ['Rating', 'Date', 'Name', 'Symbol', 'Rating Agency Name']\n",
    "categorical = ['Sector']\n",
    "df_model = df.drop(columns=cols_to_drop)\n",
    "# Drop rows with \"Other\" collapsed ratings or missing values\n",
    "df_model = df_model[df['Rating_Collapsed'] != 'Other'].dropna()\n",
    "# One-hot encode sector\n",
    "dummies = pd.get_dummies(df_model[categorical], drop_first=True)\n",
    "X = pd.concat([df_model.drop(columns=categorical + ['Rating_Collapsed']), dummies], axis=1)\n",
    "y = df_model['Rating_Collapsed']"
   ]
  },
  {
   "cell_type": "code",
   "execution_count": 67,
   "metadata": {},
   "outputs": [
    {
     "name": "stdout",
     "output_type": "stream",
     "text": [
      "Accuracy: 0.6822660098522167\n"
     ]
    }
   ],
   "source": [
    "# Train/test split and fit tree\n",
    "X_train, X_test, y_train, y_test = train_test_split(X, y, test_size=0.2, random_state=42)\n",
    "\n",
    "tree_clf = DecisionTreeClassifier(min_samples_leaf=10, random_state=42)\n",
    "tree_clf.fit(X_train, y_train)\n",
    "pred = tree_clf.predict(X_test)\n",
    "\n",
    "acc = accuracy_score(y_test, pred)\n",
    "print(f\"Accuracy: {acc}\")"
   ]
  },
  {
   "cell_type": "code",
   "execution_count": 71,
   "metadata": {},
   "outputs": [
    {
     "data": {
      "application/vnd.microsoft.datawrangler.viewer.v0+json": {
       "columns": [
        {
         "name": "Rating_Collapsed",
         "rawType": "object",
         "type": "string"
        },
        {
         "name": "A",
         "rawType": "int64",
         "type": "integer"
        },
        {
         "name": "B",
         "rawType": "int64",
         "type": "integer"
        },
        {
         "name": "C",
         "rawType": "int64",
         "type": "integer"
        }
       ],
       "conversionMethod": "pd.DataFrame",
       "ref": "0ebac803-cdc8-4ae1-ad23-43f49ab12d68",
       "rows": [
        [
         "A",
         "47",
         "49",
         "0"
        ],
        [
         "B",
         "59",
         "227",
         "8"
        ],
        [
         "C",
         "2",
         "11",
         "3"
        ]
       ],
       "shape": {
        "columns": 3,
        "rows": 3
       }
      },
      "text/html": [
       "<div>\n",
       "<style scoped>\n",
       "    .dataframe tbody tr th:only-of-type {\n",
       "        vertical-align: middle;\n",
       "    }\n",
       "\n",
       "    .dataframe tbody tr th {\n",
       "        vertical-align: top;\n",
       "    }\n",
       "\n",
       "    .dataframe thead th {\n",
       "        text-align: right;\n",
       "    }\n",
       "</style>\n",
       "<table border=\"1\" class=\"dataframe\">\n",
       "  <thead>\n",
       "    <tr style=\"text-align: right;\">\n",
       "      <th>col_0</th>\n",
       "      <th>A</th>\n",
       "      <th>B</th>\n",
       "      <th>C</th>\n",
       "    </tr>\n",
       "    <tr>\n",
       "      <th>Rating_Collapsed</th>\n",
       "      <th></th>\n",
       "      <th></th>\n",
       "      <th></th>\n",
       "    </tr>\n",
       "  </thead>\n",
       "  <tbody>\n",
       "    <tr>\n",
       "      <th>A</th>\n",
       "      <td>47</td>\n",
       "      <td>49</td>\n",
       "      <td>0</td>\n",
       "    </tr>\n",
       "    <tr>\n",
       "      <th>B</th>\n",
       "      <td>59</td>\n",
       "      <td>227</td>\n",
       "      <td>8</td>\n",
       "    </tr>\n",
       "    <tr>\n",
       "      <th>C</th>\n",
       "      <td>2</td>\n",
       "      <td>11</td>\n",
       "      <td>3</td>\n",
       "    </tr>\n",
       "  </tbody>\n",
       "</table>\n",
       "</div>"
      ],
      "text/plain": [
       "col_0              A    B  C\n",
       "Rating_Collapsed            \n",
       "A                 47   49  0\n",
       "B                 59  227  8\n",
       "C                  2   11  3"
      ]
     },
     "execution_count": 71,
     "metadata": {},
     "output_type": "execute_result"
    }
   ],
   "source": [
    "# Confusion Matrix\n",
    "cm = pd.crosstab(y_test, pred)\n",
    "cm"
   ]
  },
  {
   "cell_type": "code",
   "execution_count": 72,
   "metadata": {},
   "outputs": [
    {
     "name": "stdout",
     "output_type": "stream",
     "text": [
      "Accuracy with Rating Agency: 0.7561576354679803\n"
     ]
    }
   ],
   "source": [
    "# Add Rating Agency as predictor\n",
    "X_with_agency = pd.concat([X, pd.get_dummies(df.loc[df_model.index, 'Rating Agency Name'], drop_first=True)], axis=1)\n",
    "X_train2, X_test2, y_train2, y_test2 = train_test_split(X_with_agency, y, test_size=0.2, random_state=42)\n",
    "\n",
    "tree_clf2 = DecisionTreeClassifier(min_samples_leaf=10, random_state=42)\n",
    "tree_clf2.fit(X_train2, y_train2)\n",
    "pred2 = tree_clf2.predict(X_test2)\n",
    "\n",
    "# Evaluation with rating agency\n",
    "acc2 = accuracy_score(y_test2, pred2)\n",
    "print(f\"Accuracy with Rating Agency: {acc2}\")"
   ]
  },
  {
   "cell_type": "code",
   "execution_count": 73,
   "metadata": {},
   "outputs": [
    {
     "data": {
      "application/vnd.microsoft.datawrangler.viewer.v0+json": {
       "columns": [
        {
         "name": "Rating_Collapsed",
         "rawType": "object",
         "type": "string"
        },
        {
         "name": "A",
         "rawType": "int64",
         "type": "integer"
        },
        {
         "name": "B",
         "rawType": "int64",
         "type": "integer"
        },
        {
         "name": "C",
         "rawType": "int64",
         "type": "integer"
        }
       ],
       "conversionMethod": "pd.DataFrame",
       "ref": "a86cd786-70f7-4aeb-9104-d2ed68dcc514",
       "rows": [
        [
         "A",
         "54",
         "42",
         "0"
        ],
        [
         "B",
         "34",
         "253",
         "7"
        ],
        [
         "C",
         "0",
         "16",
         "0"
        ]
       ],
       "shape": {
        "columns": 3,
        "rows": 3
       }
      },
      "text/html": [
       "<div>\n",
       "<style scoped>\n",
       "    .dataframe tbody tr th:only-of-type {\n",
       "        vertical-align: middle;\n",
       "    }\n",
       "\n",
       "    .dataframe tbody tr th {\n",
       "        vertical-align: top;\n",
       "    }\n",
       "\n",
       "    .dataframe thead th {\n",
       "        text-align: right;\n",
       "    }\n",
       "</style>\n",
       "<table border=\"1\" class=\"dataframe\">\n",
       "  <thead>\n",
       "    <tr style=\"text-align: right;\">\n",
       "      <th>col_0</th>\n",
       "      <th>A</th>\n",
       "      <th>B</th>\n",
       "      <th>C</th>\n",
       "    </tr>\n",
       "    <tr>\n",
       "      <th>Rating_Collapsed</th>\n",
       "      <th></th>\n",
       "      <th></th>\n",
       "      <th></th>\n",
       "    </tr>\n",
       "  </thead>\n",
       "  <tbody>\n",
       "    <tr>\n",
       "      <th>A</th>\n",
       "      <td>54</td>\n",
       "      <td>42</td>\n",
       "      <td>0</td>\n",
       "    </tr>\n",
       "    <tr>\n",
       "      <th>B</th>\n",
       "      <td>34</td>\n",
       "      <td>253</td>\n",
       "      <td>7</td>\n",
       "    </tr>\n",
       "    <tr>\n",
       "      <th>C</th>\n",
       "      <td>0</td>\n",
       "      <td>16</td>\n",
       "      <td>0</td>\n",
       "    </tr>\n",
       "  </tbody>\n",
       "</table>\n",
       "</div>"
      ],
      "text/plain": [
       "col_0              A    B  C\n",
       "Rating_Collapsed            \n",
       "A                 54   42  0\n",
       "B                 34  253  7\n",
       "C                  0   16  0"
      ]
     },
     "execution_count": 73,
     "metadata": {},
     "output_type": "execute_result"
    }
   ],
   "source": [
    "# Confusion Matrix\n",
    "cm = pd.crosstab(y_test, pred2)\n",
    "cm"
   ]
  },
  {
   "cell_type": "code",
   "execution_count": null,
   "metadata": {},
   "outputs": [],
   "source": [
    "# Adding the rating agency does improve the accuracy quite a bit. This is probably due to an agency having systematic differences in how they rate bonds, being stricter or more lenient."
   ]
  }
 ],
 "metadata": {
  "kernelspec": {
   "display_name": "Python 3",
   "language": "python",
   "name": "python3"
  },
  "language_info": {
   "codemirror_mode": {
    "name": "ipython",
    "version": 3
   },
   "file_extension": ".py",
   "mimetype": "text/x-python",
   "name": "python",
   "nbconvert_exporter": "python",
   "pygments_lexer": "ipython3",
   "version": "3.11.1"
  }
 },
 "nbformat": 4,
 "nbformat_minor": 2
}
